{
 "cells": [
  {
   "cell_type": "code",
   "execution_count": 4,
   "metadata": {
    "collapsed": true
   },
   "outputs": [],
   "source": [
    "# calc both direction and amount from error"
   ]
  },
  {
   "cell_type": "code",
   "execution_count": 5,
   "metadata": {
    "collapsed": false
   },
   "outputs": [
    {
     "name": "stdout",
     "output_type": "stream",
     "text": [
      "Error: 0.30250000000000005 Prediction: 0.25\n",
      "Error: 0.17015625000000004 Prediction: 0.3875\n",
      "Error: 0.095712890625 Prediction: 0.49062500000000003\n",
      "Error: 0.05383850097656251 Prediction: 0.56796875\n",
      "Error: 0.03028415679931642 Prediction: 0.6259765625\n",
      "Error: 0.0170348381996155 Prediction: 0.669482421875\n",
      "Error: 0.00958209648728372 Prediction: 0.70211181640625\n",
      "Error: 0.005389929274097089 Prediction: 0.7265838623046875\n",
      "Error: 0.0030318352166796153 Prediction: 0.7449378967285156\n",
      "Error: 0.0017054073093822882 Prediction: 0.7587034225463867\n",
      "Error: 0.0009592916115275371 Prediction: 0.76902756690979\n",
      "Error: 0.0005396015314842384 Prediction: 0.7767706751823426\n",
      "Error: 0.000303525861459885 Prediction: 0.7825780063867569\n",
      "Error: 0.00017073329707118678 Prediction: 0.7869335047900676\n",
      "Error: 9.603747960254256e-05 Prediction: 0.7902001285925507\n",
      "Error: 5.402108227642978e-05 Prediction: 0.7926500964444131\n",
      "Error: 3.038685878049206e-05 Prediction: 0.7944875723333098\n",
      "Error: 1.7092608064027242e-05 Prediction: 0.7958656792499823\n",
      "Error: 9.614592036015323e-06 Prediction: 0.7968992594374867\n",
      "Error: 5.408208020258491e-06 Prediction: 0.7976744445781151\n"
     ]
    }
   ],
   "source": [
    "weight = 0.5\n",
    "goal_pred = 0.8\n",
    "input = 0.5\n",
    "\n",
    "for i in range(20):\n",
    "    pred = input * weight\n",
    "    error = (pred - goal_pred) ** 2\n",
    "    direction_and_amount = (pred - goal_pred) * input\n",
    "    weight = weight - direction_and_amount\n",
    "    \n",
    "    print(\"Error: \" + str(error) + \" Prediction: \" + str(pred))\n",
    "    "
   ]
  },
  {
   "cell_type": "code",
   "execution_count": 7,
   "metadata": {
    "collapsed": true
   },
   "outputs": [],
   "source": [
    "weight = 0.1\n",
    "\n",
    "alpha = 0.01\n",
    "\n",
    "def neural_network(input, weight):\n",
    "    prediction = input * weight\n",
    "    \n",
    "    return prediction\n",
    "\n",
    "number_of_toes = [8.5]\n",
    "win_or_lose_binary = [1] #indicates a win\n",
    "\n",
    "input = number_of_toes[0]\n",
    "goal_pred = win_or_lose_binary[0]\n",
    "\n",
    "pred = neural_network(input, weight)\n",
    "\n",
    "error = (pred - goal_pred) ** 2 \n",
    "\n",
    "delta = pred - goal_pred\n",
    "\n",
    "weight_delta = input * delta\n",
    "\n",
    "weight -= weight_delta * alpha"
   ]
  },
  {
   "cell_type": "code",
   "execution_count": 8,
   "metadata": {
    "collapsed": false
   },
   "outputs": [
    {
     "name": "stdout",
     "output_type": "stream",
     "text": [
      "0.11275\n"
     ]
    }
   ],
   "source": [
    "print(weight)"
   ]
  },
  {
   "cell_type": "code",
   "execution_count": 10,
   "metadata": {
    "collapsed": false
   },
   "outputs": [
    {
     "name": "stdout",
     "output_type": "stream",
     "text": [
      "Error: 0.30250000000000005 Prediction: 0.25\n",
      "Error: 0.17015625000000004 Prediction: 0.3875\n",
      "Error: 0.095712890625 Prediction: 0.49062500000000003\n",
      "Error: 0.05383850097656251 Prediction: 0.56796875\n",
      "Error: 0.03028415679931642 Prediction: 0.6259765625\n",
      "Error: 0.0170348381996155 Prediction: 0.669482421875\n",
      "Error: 0.00958209648728372 Prediction: 0.70211181640625\n",
      "Error: 0.005389929274097089 Prediction: 0.7265838623046875\n",
      "Error: 0.0030318352166796153 Prediction: 0.7449378967285156\n",
      "Error: 0.0017054073093822882 Prediction: 0.7587034225463867\n",
      "Error: 0.0009592916115275371 Prediction: 0.76902756690979\n",
      "Error: 0.0005396015314842384 Prediction: 0.7767706751823426\n",
      "Error: 0.000303525861459885 Prediction: 0.7825780063867569\n",
      "Error: 0.00017073329707118678 Prediction: 0.7869335047900676\n",
      "Error: 9.603747960254256e-05 Prediction: 0.7902001285925507\n",
      "Error: 5.402108227642978e-05 Prediction: 0.7926500964444131\n",
      "Error: 3.038685878049206e-05 Prediction: 0.7944875723333098\n",
      "Error: 1.7092608064027242e-05 Prediction: 0.7958656792499823\n",
      "Error: 9.614592036015323e-06 Prediction: 0.7968992594374867\n",
      "Error: 5.408208020258491e-06 Prediction: 0.7976744445781151\n"
     ]
    }
   ],
   "source": [
    "weight = 0.5\n",
    "goal_pred = 0.8\n",
    "input = 0.5\n",
    "\n",
    "for i in range(20):\n",
    "    pred = input * weight\n",
    "    error = (pred - goal_pred) ** 2\n",
    "    delta = pred - goal_pred\n",
    "    weight_delta = delta * input\n",
    "    weight = weight - weight_delta\n",
    "    \n",
    "    print(\"Error: \" + str(error) + \" Prediction: \" + str(pred))\n",
    "    "
   ]
  },
  {
   "cell_type": "code",
   "execution_count": 2,
   "metadata": {
    "collapsed": false
   },
   "outputs": [
    {
     "name": "stdout",
     "output_type": "stream",
     "text": [
      "Error: 0.6400000000000001 Prediction: 0.0 Weight: 0.8800000000000001\n",
      "Error: 0.02822400000000005 Prediction: 0.9680000000000002 Weight: 0.6951999999999999\n",
      "Error: 0.0012446784000000064 Prediction: 0.76472 Weight: 0.734008\n",
      "Error: 5.4890317439999896e-05 Prediction: 0.8074088 Weight: 0.72585832\n"
     ]
    }
   ],
   "source": [
    "# several steps of learning\n",
    "weight = 0.0\n",
    "goal_pred = 0.8\n",
    "input = 1.1\n",
    "\n",
    "for i in range(4):\n",
    "    pred = input * weight\n",
    "    error  = (pred - goal_pred) ** 2\n",
    "    delta = pred - goal_pred\n",
    "    weight_delta = delta * input\n",
    "    weight = weight - weight_delta\n",
    "    \n",
    "    print(\"Error: \" + str(error) + \" Prediction: \" + str(pred) + \" Weight: \" + str(weight))"
   ]
  },
  {
   "cell_type": "code",
   "execution_count": 2,
   "metadata": {
    "collapsed": false
   },
   "outputs": [
    {
     "name": "stdout",
     "output_type": "stream",
     "text": [
      "Error: 0.03999999999999998 Prediction: 1.0\n",
      "Error: 0.0144 Prediction: 0.92\n",
      "Error: 0.005183999999999993 Prediction: 0.872\n",
      "Error: 0.0018662400000000014 Prediction: 0.8432000000000001\n",
      "Error: 0.0006718464000000028 Prediction: 0.8259200000000001\n",
      "Error: 0.00024186470400000033 Prediction: 0.815552\n",
      "Error: 8.70712934399997e-05 Prediction: 0.8093312\n",
      "Error: 3.134566563839939e-05 Prediction: 0.80559872\n",
      "Error: 1.1284439629823931e-05 Prediction: 0.803359232\n",
      "Error: 4.062398266736526e-06 Prediction: 0.8020155392\n",
      "Error: 1.4624633760252567e-06 Prediction: 0.8012093235200001\n",
      "Error: 5.264868153690924e-07 Prediction: 0.8007255941120001\n",
      "Error: 1.8953525353291194e-07 Prediction: 0.8004353564672001\n",
      "Error: 6.82326912718715e-08 Prediction: 0.8002612138803201\n",
      "Error: 2.456376885786678e-08 Prediction: 0.8001567283281921\n",
      "Error: 8.842956788836216e-09 Prediction: 0.8000940369969153\n",
      "Error: 3.1834644439835434e-09 Prediction: 0.8000564221981492\n",
      "Error: 1.1460471998340758e-09 Prediction: 0.8000338533188895\n",
      "Error: 4.125769919393652e-10 Prediction: 0.8000203119913337\n",
      "Error: 1.485277170987127e-10 Prediction: 0.8000121871948003\n"
     ]
    }
   ],
   "source": [
    "#breaking gradient descent\n",
    "\n",
    "weight = 0.5\n",
    "goal_pred = 0.8\n",
    "input = 2\n",
    "alpha = 0.1\n",
    "\n",
    "for i in range(20):\n",
    "    pred = input * weight\n",
    "    error = (pred - goal_pred) ** 2\n",
    "    deriv = input * (pred - goal_pred)\n",
    "    weight = weight - (alpha * deriv)\n",
    "    \n",
    "    print(\"Error: \" + str(error) + \" Prediction: \" + str(pred))\n",
    "    \n",
    "    "
   ]
  },
  {
   "cell_type": "code",
   "execution_count": 7,
   "metadata": {
    "collapsed": false
   },
   "outputs": [],
   "source": [
    "pred = input * weight\n",
    "error = (pred - goal_pred) ** 2\n",
    "deriv = input * (pred - goal_pred)\n",
    "weight = weight - (deriv * alpha)"
   ]
  },
  {
   "cell_type": "code",
   "execution_count": null,
   "metadata": {
    "collapsed": true
   },
   "outputs": [],
   "source": []
  }
 ],
 "metadata": {
  "kernelspec": {
   "display_name": "Python 3",
   "language": "python",
   "name": "python3"
  },
  "language_info": {
   "codemirror_mode": {
    "name": "ipython",
    "version": 3
   },
   "file_extension": ".py",
   "mimetype": "text/x-python",
   "name": "python",
   "nbconvert_exporter": "python",
   "pygments_lexer": "ipython3",
   "version": "3.6.0"
  }
 },
 "nbformat": 4,
 "nbformat_minor": 2
}

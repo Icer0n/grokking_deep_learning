{
 "cells": [
  {
   "cell_type": "code",
   "execution_count": 13,
   "metadata": {
    "collapsed": false
   },
   "outputs": [],
   "source": [
    "weights = [0.1, 0.2, 0]\n",
    "\n",
    "def w_sum(a,b):\n",
    "    assert(len(a) == len(b))\n",
    "    output = 0\n",
    "    for i in range(len(a)):\n",
    "        output += (a[i] * b[i])\n",
    "    return output\n",
    "\n",
    "def neural_network(input, weights):\n",
    "    prediction = w_sum(input,weights)\n",
    "    return prediction\n",
    "\n",
    "toes = [8.5, 9.5, 9.9, 9.0]\n",
    "wlrec = [0.65, 0.8, 0.8, 0.9]\n",
    "nfans = [1.2, 1.3, 0.5, 1.0]\n",
    "\n",
    "input = [toes[0], wlrec[0], nfans[0]]\n",
    "\n",
    "pred = neural_network(input,weights)"
   ]
  },
  {
   "cell_type": "code",
   "execution_count": 15,
   "metadata": {
    "collapsed": false
   },
   "outputs": [
    {
     "name": "stdout",
     "output_type": "stream",
     "text": [
      "0.9800000000000001\n"
     ]
    }
   ],
   "source": [
    "print(pred)"
   ]
  },
  {
   "cell_type": "code",
   "execution_count": 27,
   "metadata": {
    "collapsed": false
   },
   "outputs": [
    {
     "name": "stdout",
     "output_type": "stream",
     "text": [
      "[5.525, 7.6000000000000005, 7.920000000000001, 8.1]\n",
      "[9.15, 10.3, 10.700000000000001, 9.9]\n",
      "36.9\n",
      "9.225\n",
      "29.145000000000003\n"
     ]
    }
   ],
   "source": [
    "def elementwise_mult(vec_a, vec_b):\n",
    "    assert(len(vec_a) == len(vec_b))\n",
    "    output = []\n",
    "    for i in range(len(vec_a)):\n",
    "        output.append(vec_a[i] * vec_b[i])\n",
    "    return output\n",
    "\n",
    "def elementwise_add(vec_a, vec_b):\n",
    "    assert(len(vec_a) == len(vec_b))\n",
    "    output = []\n",
    "    for i in range(len(vec_a)):\n",
    "        output.append(vec_a[i] + vec_b[i])\n",
    "    return output\n",
    "\n",
    "def vector_sum(vec_a):\n",
    "    output = 0\n",
    "    for i in range(len(vec_a)):\n",
    "        output += vec_a[i]\n",
    "    return output\n",
    "\n",
    "def vector_avg(vec_a):\n",
    "    output = 0\n",
    "    for i in range(len(vec_a)):\n",
    "        output += vec_a[i]\n",
    "    return output / len(vec_a)\n",
    "\n",
    "print(elementwise_mult(toes, wlrec))\n",
    "print(elementwise_add(toes, wlrec))\n",
    "print(vector_sum(toes))\n",
    "print(vector_avg(toes))\n",
    "\n",
    "print(vector_sum(elementwise_mult(toes, wlrec)))"
   ]
  },
  {
   "cell_type": "code",
   "execution_count": 28,
   "metadata": {
    "collapsed": false
   },
   "outputs": [
    {
     "name": "stdout",
     "output_type": "stream",
     "text": [
      "0.98\n"
     ]
    }
   ],
   "source": [
    "#begin numpy version of above network\n",
    "import numpy as np\n",
    "\n",
    "weights = np.array([0.1, 0.2, 0])\n",
    "\n",
    "def neural_network(input, weights):\n",
    "    pred = input.dot(weights)\n",
    "    return pred\n",
    "\n",
    "toes = np.array([8.5, 9.5, 9.9, 9.0])\n",
    "wlrec = np.array([0.65, 0.8, 0.8, 0.9])\n",
    "nfans = np.array([1.2, 1.3, 0.5, 1.0])\n",
    "\n",
    "#input corresponds to every entry for the first game of the season\n",
    "\n",
    "input = np.array([toes[0], wlrec[0], nfans[0]])\n",
    "pred = neural_network(input, weight)\n",
    "print(pred)"
   ]
  },
  {
   "cell_type": "code",
   "execution_count": null,
   "metadata": {
    "collapsed": true
   },
   "outputs": [],
   "source": []
  }
 ],
 "metadata": {
  "kernelspec": {
   "display_name": "Python 3",
   "language": "python",
   "name": "python3"
  },
  "language_info": {
   "codemirror_mode": {
    "name": "ipython",
    "version": 3
   },
   "file_extension": ".py",
   "mimetype": "text/x-python",
   "name": "python",
   "nbconvert_exporter": "python",
   "pygments_lexer": "ipython3",
   "version": "3.6.0"
  }
 },
 "nbformat": 4,
 "nbformat_minor": 2
}
